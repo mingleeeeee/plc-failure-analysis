{
 "cells": [
  {
   "cell_type": "code",
   "execution_count": 1,
   "id": "6dd85cd4",
   "metadata": {},
   "outputs": [
    {
     "name": "stdout",
     "output_type": "stream",
     "text": [
      "Merged data has been saved to merged_data.csv.\n"
     ]
    }
   ],
   "source": [
    "import os\n",
    "import pandas as pd\n",
    "\n",
    "# Directory containing the CSV files\n",
    "directory_path = 'acc-Jan'\n",
    "\n",
    "# Initialize an empty list to store DataFrames\n",
    "dfs = []\n",
    "\n",
    "# Loop through subdirectories and files\n",
    "for root, _, files in os.walk(directory_path):\n",
    "    for file in files:\n",
    "        file_path = os.path.join(root, file)\n",
    "        \n",
    "        # Check if the file is a CSV\n",
    "        if file_path.endswith('.csv'):\n",
    "            # Read the CSV file\n",
    "            df = pd.read_csv(file_path)\n",
    "            \n",
    "            # Convert the 'device_time' column to datetime format\n",
    "            df['device_time'] = pd.to_datetime(df['device_time'])\n",
    "            \n",
    "            # Remove timezone expression and round down to the nearest minute\n",
    "            df['device_time'] = df['device_time'].dt.strftime('%Y-%m-%d %H:%M')\n",
    "            \n",
    "            # Group by 'device_time' and calculate the mean of acceleration values\n",
    "            df = df.groupby('device_time').mean().reset_index()\n",
    "            \n",
    "            # Append the DataFrame to the list\n",
    "            dfs.append(df)\n",
    "\n",
    "# Concatenate all DataFrames\n",
    "merged_df = pd.concat(dfs, ignore_index=True)\n",
    "\n",
    "# Save the merged data to a new CSV file\n",
    "merged_file_path = 'merged_data.csv'\n",
    "merged_df.to_csv(merged_file_path, index=False)\n",
    "\n",
    "print(f\"Merged data has been saved to {merged_file_path}.\")\n"
   ]
  },
  {
   "cell_type": "code",
   "execution_count": 1,
   "id": "7e744bff",
   "metadata": {},
   "outputs": [
    {
     "name": "stdout",
     "output_type": "stream",
     "text": [
      "Filtered and formatted data has been saved to updated_plc.csv.\n"
     ]
    }
   ],
   "source": [
    "import os\n",
    "import pandas as pd\n",
    "# Load the original plc.csv file\n",
    "original_file_path = 'plc.csv'\n",
    "df = pd.read_csv(original_file_path)\n",
    "\n",
    "# Convert the 'time' column to datetime format\n",
    "df['time'] = pd.to_datetime(df['time'])\n",
    "\n",
    "# # Filter and keep only elements from January 2023\n",
    "# df = df[df['time'].dt.year == 2023]\n",
    "# df = df[df['time'].dt.month == 1]\n",
    "\n",
    "# Round timestamps to the nearest minute\n",
    "df['time'] = df['time'].dt.strftime('%Y-%m-%d %H:%M')\n",
    "\n",
    "# Save the updated data to a new CSV file\n",
    "updated_file_path = 'updated_plc.csv'\n",
    "df.to_csv(updated_file_path, index=False)\n",
    "\n",
    "print(f\"Filtered and formatted data has been saved to {updated_file_path}.\")\n"
   ]
  },
  {
   "cell_type": "code",
   "execution_count": null,
   "id": "4471aff2",
   "metadata": {},
   "outputs": [],
   "source": []
  }
 ],
 "metadata": {
  "kernelspec": {
   "display_name": "Python 3 (ipykernel)",
   "language": "python",
   "name": "python3"
  },
  "language_info": {
   "codemirror_mode": {
    "name": "ipython",
    "version": 3
   },
   "file_extension": ".py",
   "mimetype": "text/x-python",
   "name": "python",
   "nbconvert_exporter": "python",
   "pygments_lexer": "ipython3",
   "version": "3.11.5"
  }
 },
 "nbformat": 4,
 "nbformat_minor": 5
}
