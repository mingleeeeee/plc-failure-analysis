{
 "cells": [
  {
   "cell_type": "code",
   "execution_count": 1,
   "id": "29ac4df6-fa23-48cf-a480-938eba3c5abc",
   "metadata": {},
   "outputs": [
    {
     "name": "stdout",
     "output_type": "stream",
     "text": [
      "テスト分類レポート:\n",
      "              precision    recall  f1-score      support\n",
      "0.0            0.998298  0.996602  0.997449  1177.000000\n",
      "1.0            0.979275  0.989529  0.984375   191.000000\n",
      "accuracy       0.995614  0.995614  0.995614     0.995614\n",
      "macro avg      0.988786  0.993065  0.990912  1368.000000\n",
      "weighted avg   0.995642  0.995614  0.995624  1368.000000\n",
      "              precision    recall  f1-score   support\n",
      "\n",
      "         0.0       1.00      1.00      1.00      1177\n",
      "         1.0       0.98      0.99      0.98       191\n",
      "\n",
      "    accuracy                           1.00      1368\n",
      "   macro avg       0.99      0.99      0.99      1368\n",
      "weighted avg       1.00      1.00      1.00      1368\n",
      "\n"
     ]
    },
    {
     "data": {
      "image/png": "[encoded data removed]",
      "text/plain": [
       "<Figure size 1000x700 with 2 Axes>"
      ]
     },
     "metadata": {},
     "output_type": "display_data"
    },
    {
     "name": "stdout",
     "output_type": "stream",
     "text": [
      "True Positives (TP): 189\n",
      "True Negatives (TN): 1173\n",
      "False Positives (FP): 4\n",
      "False Negatives (FN): 2\n",
      "confusion matrix: \n",
      "[[1173    4]\n",
      " [   2  189]]\n",
      "テストデータの量: 1368\n"
     ]
    }
   ],
   "source": [
    "import pandas as pd\n",
    "import numpy as np\n",
    "from sklearn.model_selection import train_test_split\n",
    "from sklearn.ensemble import RandomForestClassifier\n",
    "from sklearn.metrics import classification_report, confusion_matrix\n",
    "import matplotlib.pyplot as plt\n",
    "import seaborn as sns\n",
    "from imblearn.over_sampling import SMOTE\n",
    "\n",
    "# データを読み込む\n",
    "data = pd.read_csv('ten.csv')\n",
    "\n",
    "# データを訓練セットとテストセットに分割する\n",
    "train_data, test_data = train_test_split(data, test_size=0.3, random_state=42)\n",
    "\n",
    "# 訓練データをフィルタリング：正常データのみを使用する（time_error < 2000）\n",
    "time_error_threshold = 2000\n",
    "normal_data = train_data[train_data['time_error'] < time_error_threshold]\n",
    "\n",
    "# 異常データを選択する（time_error >= 2000）\n",
    "abnormal_data = train_data[train_data['time_error'] >= time_error_threshold]\n",
    "\n",
    "# 異常データの数を確認する\n",
    "abnormal_data_sample_size = min(len(normal_data), len(abnormal_data))\n",
    "\n",
    "# 異常データの総数を超えないようにする\n",
    "if abnormal_data_sample_size > 0:\n",
    "    abnormal_data_sample = abnormal_data.sample(n=abnormal_data_sample_size, random_state=42)\n",
    "else:\n",
    "    abnormal_data_sample = abnormal_data\n",
    "\n",
    "# 正常データと異常データを結合して訓練データとする\n",
    "training_data = pd.concat([normal_data, abnormal_data_sample])\n",
    "\n",
    "# 訓練用の特徴量と目標変数を選択する\n",
    "features_train = training_data[['time_error', 'acceleration_x', 'acceleration_y', 'acceleration_z']]\n",
    "target_train = training_data['next_hour_failure']\n",
    "\n",
    "# テストセットのデータを使用してテストする\n",
    "features_test = test_data[['time_error', 'acceleration_x', 'acceleration_y', 'acceleration_z']]\n",
    "target_test = test_data['next_hour_failure']\n",
    "\n",
    "# SMOTEを適用してクラスをバランスさせるためにオーバーサンプリングする\n",
    "smote = SMOTE(random_state=42)\n",
    "X_resampled, y_resampled = smote.fit_resample(features_train, target_train)\n",
    "\n",
    "# ランダムフォレスト分類器を訓練する\n",
    "rf_classifier = RandomForestClassifier(n_estimators=100, random_state=42)\n",
    "rf_classifier.fit(X_resampled, y_resampled)\n",
    "\n",
    "# テストデータで予測を行う\n",
    "y_test_pred = rf_classifier.predict(features_test)\n",
    "\n",
    "# モデルの性能を評価する\n",
    "test_report = classification_report(target_test, y_test_pred, output_dict=True)\n",
    "print(\"テスト分類レポート:\")\n",
    "print(pd.DataFrame(test_report).transpose())\n",
    "\n",
    "# テキストレポートを表示する\n",
    "print(classification_report(target_test, y_test_pred))\n",
    "\n",
    "# 混同行列を計算する\n",
    "cm = confusion_matrix(target_test, y_test_pred)\n",
    "\n",
    "# 混同行列を表示する\n",
    "plt.figure(figsize=(10, 7))\n",
    "sns.heatmap(cm, annot=True, fmt='d', cmap='Blues')\n",
    "plt.show()\n",
    "# 画像として保存\n",
    "plt.savefig('confusion_matrix_'+time_error_threshold+'.png')\n",
    "\n",
    "# TP, TN, FP, FNの値を表示する\n",
    "tn, fp, fn, tp = cm.ravel()\n",
    "print(f\"True Positives (TP): {tp}\")\n",
    "print(f\"True Negatives (TN): {tn}\")\n",
    "print(f\"False Positives (FP): {fp}\")\n",
    "print(f\"False Negatives (FN): {fn}\")\n",
    "print(\"confusion matrix: \")\n",
    "print(cm)\n",
    "# テストデータの量を表示する\n",
    "print(f\"テストデータの量: {len(target_test)}\")\n"
   ]
  },
  {
   "cell_type": "code",
   "execution_count": null,
   "id": "9604fc64-d0e5-4647-918b-778ab870b2a9",
   "metadata": {},
   "outputs": [],
   "source": []
  }
 ],
 "metadata": {
  "kernelspec": {
   "display_name": "Python 3 (ipykernel)",
   "language": "python",
   "name": "python3"
  },
  "language_info": {
   "codemirror_mode": {
    "name": "ipython",
    "version": 3
   },
   "file_extension": ".py",
   "mimetype": "text/x-python",
   "name": "python",
   "nbconvert_exporter": "python",
   "pygments_lexer": "ipython3",
   "version": "3.11.5"
  }
 },
 "nbformat": 4,
 "nbformat_minor": 5
}
