{
 "cells": [
  {
   "cell_type": "code",
   "execution_count": null,
   "id": "035861b3-36ec-4782-9f3e-a8826ff40022",
   "metadata": {},
   "outputs": [],
   "source": [
    "import pandas as pd\n",
    "import numpy as np\n",
    "import matplotlib.pyplot as plt\n",
    "from sklearn.preprocessing import StandardScaler\n",
    "from keras.models import Sequential\n",
    "from keras.layers import LSTM, Dense\n",
    "from imblearn.over_sampling import SMOTE\n",
    "from sklearn.metrics import accuracy_score\n",
    "from sklearn.model_selection import train_test_split\n",
    "from collections import Counter\n",
    "\n",
    "# Load the data from 'data.csv'\n",
    "df = pd.read_csv('data.csv')\n",
    "\n",
    "# Convert 'time' column to datetime\n",
    "df['time'] = pd.to_datetime(df['time'], format='%Y-%m-%d %H:%M:%S')\n",
    "df.set_index('time', inplace=True)\n",
    "\n",
    "# Resample the data to 10-minute intervals, taking the mean of 'time_error'\n",
    "ten_minute_data = df.resample('10T').mean()\n",
    "\n",
    "# Set a threshold for PLC failure (e.g., time_error > 10000)\n",
    "ten_minute_data['failure'] = (ten_minute_data['time_error'] > 4000).astype(int)\n",
    "\n",
    "# Shift 'failure' column by 6 time steps to represent 'next hour failure'\n",
    "ten_minute_data['next_hour_failure'] = ten_minute_data['failure'].shift(-6)\n",
    "\n",
    "# Drop rows with missing values due to lag features and rolling statistics\n",
    "ten_minute_data.dropna(inplace=True)"
   ]
  }
 ],
 "metadata": {
  "kernelspec": {
   "display_name": "Python 3 (ipykernel)",
   "language": "python",
   "name": "python3"
  },
  "language_info": {
   "codemirror_mode": {
    "name": "ipython",
    "version": 3
   },
   "file_extension": ".py",
   "mimetype": "text/x-python",
   "name": "python",
   "nbconvert_exporter": "python",
   "pygments_lexer": "ipython3",
   "version": "3.11.5"
  }
 },
 "nbformat": 4,
 "nbformat_minor": 5
}
